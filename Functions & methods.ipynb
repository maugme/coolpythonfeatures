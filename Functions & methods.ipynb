{
 "cells": [
  {
   "cell_type": "markdown",
   "metadata": {},
   "source": [
    "## Functions & methods \n",
    "\n",
    "All functions are non-data descriptors which return bound methods when they are invoked from an object\n"
   ]
  },
  {
   "cell_type": "code",
   "execution_count": 17,
   "metadata": {
    "scrolled": true
   },
   "outputs": [
    {
     "name": "stdout",
     "output_type": "stream",
     "text": [
      "<method-wrapper '__get__' of function object at 0x00000220EE034D90>\n"
     ]
    }
   ],
   "source": [
    "def hello_world():\n",
    "    print(\"hello world\")\n",
    "    \n",
    "print(hello_world.__get__)"
   ]
  },
  {
   "cell_type": "markdown",
   "metadata": {},
   "source": [
    "Function are object and this is roughly the implementation. \n",
    "```python\n",
    "class Function(object):\n",
    "    def __get__(self, obj, objtype=None):\n",
    "        \"Simulate func_descr_get() in Objects/funcobject.c\"\n",
    "        if obj is None:\n",
    "            return self\n",
    "        return types.MethodType(self, obj)\n",
    "```"
   ]
  },
  {
   "cell_type": "code",
   "execution_count": 18,
   "metadata": {
    "scrolled": true
   },
   "outputs": [
    {
     "name": "stdout",
     "output_type": "stream",
     "text": [
      "<method-wrapper '__get__' of function object at 0x00000220EE034840>\n",
      "<bound method A.foo of <__main__.A object at 0x00000220EE051630>>\n"
     ]
    }
   ],
   "source": [
    "class A:\n",
    "    def foo(self):\n",
    "        print(self)\n",
    "        \n",
    "    print(foo.__get__)\n",
    "print(A().foo)"
   ]
  },
  {
   "cell_type": "markdown",
   "metadata": {},
   "source": [
    "This is last week's implementation of @staticmethod, back then we didn't understand why this was working. "
   ]
  },
  {
   "cell_type": "code",
   "execution_count": 22,
   "metadata": {},
   "outputs": [
    {
     "name": "stdout",
     "output_type": "stream",
     "text": [
      "__init__ receive <function B.foo at 0x00000220EE056488>\n",
      "__get__ returns <function B.foo at 0x00000220EE056488>\n",
      "B().foo : <function B.foo at 0x00000220EE056488>\n",
      "__get__ returns <function B.foo at 0x00000220EE056488>\n",
      "hello\n"
     ]
    }
   ],
   "source": [
    "class static:\n",
    "    def __init__(self, f):\n",
    "        print(f\"__init__ receive {f}\")\n",
    "        self.f = f\n",
    "    \n",
    "    def __get__(self, o, c):\n",
    "        print(f\"__get__ returns {self.f}\")\n",
    "        return self.f\n",
    "\n",
    "class B:\n",
    "    @static\n",
    "    def foo(message):\n",
    "        print(message)\n",
    "        \n",
    "print(f\"B().foo : {B().foo}\")\n",
    "B.foo(\"hello\")"
   ]
  },
  {
   "cell_type": "markdown",
   "metadata": {},
   "source": [
    "__Same code than above but step by step.__"
   ]
  },
  {
   "cell_type": "code",
   "execution_count": 21,
   "metadata": {
    "scrolled": true
   },
   "outputs": [
    {
     "name": "stdout",
     "output_type": "stream",
     "text": [
      "__init__ receive <function foo at 0x00000220EE034B70>\n",
      "__get__ returns <function foo at 0x00000220EE034B70>\n",
      "B().foo : <function foo at 0x00000220EE034B70>\n",
      "__get__ returns <function foo at 0x00000220EE034B70>\n",
      "hello\n"
     ]
    }
   ],
   "source": [
    "class static:\n",
    "    def __init__(self, f):\n",
    "        print(f\"__init__ receive {f}\")\n",
    "        self.f = f\n",
    "    \n",
    "    def __get__(self, o, c):\n",
    "        print(f\"__get__ returns {self.f}\")\n",
    "        return self.f\n",
    "\n",
    "def foo(message):\n",
    "    print(message)\n",
    "\n",
    "class B:\n",
    "    pass\n",
    "\n",
    "static_foo = static(foo)\n",
    "\n",
    "B.foo = static_foo\n",
    "\n",
    "print(f\"B().foo : {B().foo}\")\n",
    "B.foo(\"hello\")"
   ]
  },
  {
   "cell_type": "markdown",
   "metadata": {},
   "source": [
    "What we actually do with static is that we wrap a descriptor in another descriptor. \n",
    "\n",
    "When we do `B().foo()`\n",
    "\n",
    "- foo is accessed through an object so the if foo is a descriptor we cal its \\__get__ method\n",
    "- static_foo is a descriptior so static_foo.\\__get__ is called\n",
    "- static_foo.\\__get__ return foo, here even if foo is a descriptor it's not accessed *directly* through an object so the descriptor protocol is not applied and it's called normaly. \n"
   ]
  },
  {
   "cell_type": "code",
   "execution_count": null,
   "metadata": {},
   "outputs": [],
   "source": []
  }
 ],
 "metadata": {
  "kernelspec": {
   "display_name": "Python 3",
   "language": "python",
   "name": "python3"
  },
  "language_info": {
   "codemirror_mode": {
    "name": "ipython",
    "version": 3
   },
   "file_extension": ".py",
   "mimetype": "text/x-python",
   "name": "python",
   "nbconvert_exporter": "python",
   "pygments_lexer": "ipython3",
   "version": "3.7.2"
  }
 },
 "nbformat": 4,
 "nbformat_minor": 2
}
